{
  "cells": [
    {
      "cell_type": "markdown",
      "metadata": {
        "id": "fKADPWcFKlj3"
      },
      "source": [
        "# **1. Import Library**"
      ]
    },
    {
      "cell_type": "markdown",
      "metadata": {
        "id": "LgA3ERnVn84N"
      },
      "source": [
        "Pada tahap ini, Anda perlu mengimpor beberapa pustaka (library) Python yang dibutuhkan untuk analisis data dan pembangunan model machine learning."
      ]
    },
    {
      "cell_type": "code",
      "execution_count": 1,
      "metadata": {
        "id": "BlmvjLY9M4Yj"
      },
      "outputs": [],
      "source": [
        "import pandas as pd\n",
        "import numpy as np\n",
        "import seaborn as sns\n",
        "import matplotlib.pyplot as plt\n",
        "from sklearn.model_selection import train_test_split\n",
        "from sklearn.preprocessing import LabelEncoder, StandardScaler, MinMaxScaler\n",
        "from sklearn.neighbors import KNeighborsClassifier\n",
        "from sklearn.tree import DecisionTreeClassifier\n",
        "from sklearn.ensemble import RandomForestClassifier\n",
        "from sklearn.svm import SVC\n",
        "from sklearn.naive_bayes import GaussianNB\n",
        "from sklearn.metrics import confusion_matrix, accuracy_score, precision_score, recall_score, f1_score"
      ]
    },
    {
      "cell_type": "markdown",
      "metadata": {
        "id": "f3YIEnAFKrKL"
      },
      "source": [
        "# **2. Memuat Dataset dari Hasil Clustering**"
      ]
    },
    {
      "cell_type": "markdown",
      "metadata": {
        "id": "Ey3ItwTen_7E"
      },
      "source": [
        "Memuat dataset hasil clustering dari file CSV ke dalam variabel DataFrame."
      ]
    },
    {
      "cell_type": "code",
      "execution_count": 2,
      "metadata": {
        "id": "GHCGNTyrM5fS"
      },
      "outputs": [
        {
          "data": {
            "text/html": [
              "<div>\n",
              "<style scoped>\n",
              "    .dataframe tbody tr th:only-of-type {\n",
              "        vertical-align: middle;\n",
              "    }\n",
              "\n",
              "    .dataframe tbody tr th {\n",
              "        vertical-align: top;\n",
              "    }\n",
              "\n",
              "    .dataframe thead th {\n",
              "        text-align: right;\n",
              "    }\n",
              "</style>\n",
              "<table border=\"1\" class=\"dataframe\">\n",
              "  <thead>\n",
              "    <tr style=\"text-align: right;\">\n",
              "      <th></th>\n",
              "      <th>provinsi</th>\n",
              "      <th>tahun</th>\n",
              "      <th>upah</th>\n",
              "      <th>ump</th>\n",
              "      <th>jenis</th>\n",
              "      <th>daerah</th>\n",
              "      <th>periode</th>\n",
              "      <th>gk</th>\n",
              "      <th>peng</th>\n",
              "      <th>Cluster</th>\n",
              "    </tr>\n",
              "  </thead>\n",
              "  <tbody>\n",
              "    <tr>\n",
              "      <th>0</th>\n",
              "      <td>ACEH</td>\n",
              "      <td>2015</td>\n",
              "      <td>11226</td>\n",
              "      <td>1900000.0</td>\n",
              "      <td>MAKANAN</td>\n",
              "      <td>PERKOTAAN</td>\n",
              "      <td>MARET</td>\n",
              "      <td>293697.0</td>\n",
              "      <td>466355.0</td>\n",
              "      <td>0</td>\n",
              "    </tr>\n",
              "    <tr>\n",
              "      <th>1</th>\n",
              "      <td>ACEH</td>\n",
              "      <td>2015</td>\n",
              "      <td>11226</td>\n",
              "      <td>1900000.0</td>\n",
              "      <td>MAKANAN</td>\n",
              "      <td>PERKOTAAN</td>\n",
              "      <td>SEPTEMBER</td>\n",
              "      <td>302128.0</td>\n",
              "      <td>466355.0</td>\n",
              "      <td>0</td>\n",
              "    </tr>\n",
              "    <tr>\n",
              "      <th>2</th>\n",
              "      <td>ACEH</td>\n",
              "      <td>2015</td>\n",
              "      <td>11226</td>\n",
              "      <td>1900000.0</td>\n",
              "      <td>MAKANAN</td>\n",
              "      <td>PERDESAAN</td>\n",
              "      <td>MARET</td>\n",
              "      <td>297479.0</td>\n",
              "      <td>395136.0</td>\n",
              "      <td>0</td>\n",
              "    </tr>\n",
              "    <tr>\n",
              "      <th>3</th>\n",
              "      <td>ACEH</td>\n",
              "      <td>2015</td>\n",
              "      <td>11226</td>\n",
              "      <td>1900000.0</td>\n",
              "      <td>MAKANAN</td>\n",
              "      <td>PERDESAAN</td>\n",
              "      <td>SEPTEMBER</td>\n",
              "      <td>306737.0</td>\n",
              "      <td>395136.0</td>\n",
              "      <td>0</td>\n",
              "    </tr>\n",
              "    <tr>\n",
              "      <th>4</th>\n",
              "      <td>ACEH</td>\n",
              "      <td>2015</td>\n",
              "      <td>11226</td>\n",
              "      <td>1900000.0</td>\n",
              "      <td>MAKANAN</td>\n",
              "      <td>PERDESAANPERKOTAAN</td>\n",
              "      <td>MARET</td>\n",
              "      <td>296406.0</td>\n",
              "      <td>415354.0</td>\n",
              "      <td>0</td>\n",
              "    </tr>\n",
              "  </tbody>\n",
              "</table>\n",
              "</div>"
            ],
            "text/plain": [
              "  provinsi  tahun   upah        ump    jenis              daerah    periode  \\\n",
              "0     ACEH   2015  11226  1900000.0  MAKANAN           PERKOTAAN      MARET   \n",
              "1     ACEH   2015  11226  1900000.0  MAKANAN           PERKOTAAN  SEPTEMBER   \n",
              "2     ACEH   2015  11226  1900000.0  MAKANAN           PERDESAAN      MARET   \n",
              "3     ACEH   2015  11226  1900000.0  MAKANAN           PERDESAAN  SEPTEMBER   \n",
              "4     ACEH   2015  11226  1900000.0  MAKANAN  PERDESAANPERKOTAAN      MARET   \n",
              "\n",
              "         gk      peng  Cluster  \n",
              "0  293697.0  466355.0        0  \n",
              "1  302128.0  466355.0        0  \n",
              "2  297479.0  395136.0        0  \n",
              "3  306737.0  395136.0        0  \n",
              "4  296406.0  415354.0        0  "
            ]
          },
          "execution_count": 2,
          "metadata": {},
          "output_type": "execute_result"
        }
      ],
      "source": [
        "data = pd.read_csv('clustering_kesejahteraan_masyarakat.csv')\n",
        "data.head()"
      ]
    },
    {
      "cell_type": "code",
      "execution_count": 3,
      "metadata": {},
      "outputs": [
        {
          "name": "stdout",
          "output_type": "stream",
          "text": [
            "<class 'pandas.core.frame.DataFrame'>\n",
            "RangeIndex: 4905 entries, 0 to 4904\n",
            "Data columns (total 10 columns):\n",
            " #   Column    Non-Null Count  Dtype  \n",
            "---  ------    --------------  -----  \n",
            " 0   provinsi  4905 non-null   object \n",
            " 1   tahun     4905 non-null   int64  \n",
            " 2   upah      4905 non-null   int64  \n",
            " 3   ump       4905 non-null   float64\n",
            " 4   jenis     4905 non-null   object \n",
            " 5   daerah    4905 non-null   object \n",
            " 6   periode   4905 non-null   object \n",
            " 7   gk        4905 non-null   float64\n",
            " 8   peng      4905 non-null   float64\n",
            " 9   Cluster   4905 non-null   int64  \n",
            "dtypes: float64(3), int64(3), object(4)\n",
            "memory usage: 383.3+ KB\n"
          ]
        }
      ],
      "source": [
        "data.info()"
      ]
    },
    {
      "cell_type": "code",
      "execution_count": 4,
      "metadata": {},
      "outputs": [
        {
          "data": {
            "text/html": [
              "<div>\n",
              "<style scoped>\n",
              "    .dataframe tbody tr th:only-of-type {\n",
              "        vertical-align: middle;\n",
              "    }\n",
              "\n",
              "    .dataframe tbody tr th {\n",
              "        vertical-align: top;\n",
              "    }\n",
              "\n",
              "    .dataframe thead th {\n",
              "        text-align: right;\n",
              "    }\n",
              "</style>\n",
              "<table border=\"1\" class=\"dataframe\">\n",
              "  <thead>\n",
              "    <tr style=\"text-align: right;\">\n",
              "      <th></th>\n",
              "      <th>provinsi</th>\n",
              "      <th>tahun</th>\n",
              "      <th>upah</th>\n",
              "      <th>ump</th>\n",
              "      <th>jenis</th>\n",
              "      <th>daerah</th>\n",
              "      <th>periode</th>\n",
              "      <th>gk</th>\n",
              "      <th>peng</th>\n",
              "      <th>Cluster</th>\n",
              "    </tr>\n",
              "  </thead>\n",
              "  <tbody>\n",
              "    <tr>\n",
              "      <th>0</th>\n",
              "      <td>0</td>\n",
              "      <td>2015</td>\n",
              "      <td>11226</td>\n",
              "      <td>1900000.0</td>\n",
              "      <td>0</td>\n",
              "      <td>2</td>\n",
              "      <td>0</td>\n",
              "      <td>293697.0</td>\n",
              "      <td>466355.0</td>\n",
              "      <td>0</td>\n",
              "    </tr>\n",
              "    <tr>\n",
              "      <th>1</th>\n",
              "      <td>0</td>\n",
              "      <td>2015</td>\n",
              "      <td>11226</td>\n",
              "      <td>1900000.0</td>\n",
              "      <td>0</td>\n",
              "      <td>2</td>\n",
              "      <td>1</td>\n",
              "      <td>302128.0</td>\n",
              "      <td>466355.0</td>\n",
              "      <td>0</td>\n",
              "    </tr>\n",
              "    <tr>\n",
              "      <th>2</th>\n",
              "      <td>0</td>\n",
              "      <td>2015</td>\n",
              "      <td>11226</td>\n",
              "      <td>1900000.0</td>\n",
              "      <td>0</td>\n",
              "      <td>0</td>\n",
              "      <td>0</td>\n",
              "      <td>297479.0</td>\n",
              "      <td>395136.0</td>\n",
              "      <td>0</td>\n",
              "    </tr>\n",
              "    <tr>\n",
              "      <th>3</th>\n",
              "      <td>0</td>\n",
              "      <td>2015</td>\n",
              "      <td>11226</td>\n",
              "      <td>1900000.0</td>\n",
              "      <td>0</td>\n",
              "      <td>0</td>\n",
              "      <td>1</td>\n",
              "      <td>306737.0</td>\n",
              "      <td>395136.0</td>\n",
              "      <td>0</td>\n",
              "    </tr>\n",
              "    <tr>\n",
              "      <th>4</th>\n",
              "      <td>0</td>\n",
              "      <td>2015</td>\n",
              "      <td>11226</td>\n",
              "      <td>1900000.0</td>\n",
              "      <td>0</td>\n",
              "      <td>1</td>\n",
              "      <td>0</td>\n",
              "      <td>296406.0</td>\n",
              "      <td>415354.0</td>\n",
              "      <td>0</td>\n",
              "    </tr>\n",
              "  </tbody>\n",
              "</table>\n",
              "</div>"
            ],
            "text/plain": [
              "   provinsi  tahun   upah        ump  jenis  daerah  periode        gk  \\\n",
              "0         0   2015  11226  1900000.0      0       2        0  293697.0   \n",
              "1         0   2015  11226  1900000.0      0       2        1  302128.0   \n",
              "2         0   2015  11226  1900000.0      0       0        0  297479.0   \n",
              "3         0   2015  11226  1900000.0      0       0        1  306737.0   \n",
              "4         0   2015  11226  1900000.0      0       1        0  296406.0   \n",
              "\n",
              "       peng  Cluster  \n",
              "0  466355.0        0  \n",
              "1  466355.0        0  \n",
              "2  395136.0        0  \n",
              "3  395136.0        0  \n",
              "4  415354.0        0  "
            ]
          },
          "execution_count": 4,
          "metadata": {},
          "output_type": "execute_result"
        }
      ],
      "source": [
        "# Buat instance LabelEncoder\n",
        "label_encoder = LabelEncoder()\n",
        " \n",
        "# List kolom kategorikal yang perlu di-encode\n",
        "categorical_columns = ['provinsi', 'jenis', 'daerah', 'periode']\n",
        " \n",
        "# Encode kolom kategorikal\n",
        "for column in categorical_columns:\n",
        "    data[column] = label_encoder.fit_transform(data[column])\n",
        " \n",
        "# Tampilkan DataFrame untuk memastikan encoding telah diterapkan\n",
        "data.head()"
      ]
    },
    {
      "cell_type": "code",
      "execution_count": 5,
      "metadata": {},
      "outputs": [
        {
          "name": "stdout",
          "output_type": "stream",
          "text": [
            "<class 'pandas.core.frame.DataFrame'>\n",
            "RangeIndex: 4905 entries, 0 to 4904\n",
            "Data columns (total 10 columns):\n",
            " #   Column    Non-Null Count  Dtype  \n",
            "---  ------    --------------  -----  \n",
            " 0   provinsi  4905 non-null   int64  \n",
            " 1   tahun     4905 non-null   int64  \n",
            " 2   upah      4905 non-null   int64  \n",
            " 3   ump       4905 non-null   float64\n",
            " 4   jenis     4905 non-null   int64  \n",
            " 5   daerah    4905 non-null   int64  \n",
            " 6   periode   4905 non-null   int64  \n",
            " 7   gk        4905 non-null   float64\n",
            " 8   peng      4905 non-null   float64\n",
            " 9   Cluster   4905 non-null   int64  \n",
            "dtypes: float64(3), int64(7)\n",
            "memory usage: 383.3 KB\n"
          ]
        }
      ],
      "source": [
        "data.info()"
      ]
    },
    {
      "cell_type": "markdown",
      "metadata": {
        "id": "KkPem5eWL2UP"
      },
      "source": [
        "# **3. Data Splitting**"
      ]
    },
    {
      "cell_type": "markdown",
      "metadata": {
        "id": "YYj1rl_JNI9Y"
      },
      "source": [
        "Tahap Data Splitting bertujuan untuk memisahkan dataset menjadi dua bagian: data latih (training set) dan data uji (test set)."
      ]
    },
    {
      "cell_type": "code",
      "execution_count": 6,
      "metadata": {
        "id": "OubAW-7ONKVj"
      },
      "outputs": [
        {
          "name": "stdout",
          "output_type": "stream",
          "text": [
            "Training set shape: X_train=(3433, 9), y_train=(3433,)\n",
            "Test set shape: X_test=(1472, 9), y_test=(1472,)\n"
          ]
        }
      ],
      "source": [
        "# Buat instance MinMaxScaler\n",
        "scaler = MinMaxScaler()\n",
        " \n",
        "# Normalisasi semua kolom numerik\n",
        "numeric_columns = data.select_dtypes(include=['int64', 'float64']).columns\n",
        "data[numeric_columns] = scaler.fit_transform(data[numeric_columns])\n",
        " \n",
        "# Pisahkan fitur (X) dan target (y)\n",
        "X = data.drop(columns=['Cluster'])\n",
        "y = data['Cluster']\n",
        " \n",
        "# Split data menjadi set pelatihan dan set uji\n",
        "X_train, X_test, y_train, y_test = train_test_split(X, y, test_size=0.3, random_state=42)\n",
        " \n",
        "# Tampilkan bentuk set pelatihan dan set uji untuk memastikan split\n",
        "print(f\"Training set shape: X_train={X_train.shape}, y_train={y_train.shape}\")\n",
        "print(f\"Test set shape: X_test={X_test.shape}, y_test={y_test.shape}\")"
      ]
    },
    {
      "cell_type": "code",
      "execution_count": 7,
      "metadata": {},
      "outputs": [
        {
          "name": "stderr",
          "output_type": "stream",
          "text": [
            "C:\\Users\\Pongo\\AppData\\Local\\Temp\\ipykernel_21892\\4217289235.py:1: FutureWarning: Series.ravel is deprecated. The underlying array is already 1D, so ravel is not necessary.  Use `to_numpy()` for conversion to a numpy array instead.\n",
            "  y_train = y_train.ravel()\n",
            "C:\\Users\\Pongo\\AppData\\Local\\Temp\\ipykernel_21892\\4217289235.py:2: FutureWarning: Series.ravel is deprecated. The underlying array is already 1D, so ravel is not necessary.  Use `to_numpy()` for conversion to a numpy array instead.\n",
            "  y_test = y_test.ravel()\n"
          ]
        }
      ],
      "source": [
        "y_train = y_train.ravel()\n",
        "y_test = y_test.ravel()"
      ]
    },
    {
      "cell_type": "code",
      "execution_count": 8,
      "metadata": {},
      "outputs": [],
      "source": [
        "# Pastikan y dalam format integer dan array 1D\n",
        "y_train = y_train.astype(int).ravel()\n",
        "y_test = y_test.astype(int).ravel()"
      ]
    },
    {
      "cell_type": "markdown",
      "metadata": {
        "id": "IVPbB03CMhTT"
      },
      "source": [
        "# **4. Membangun Model Klasifikasi**\n"
      ]
    },
    {
      "cell_type": "markdown",
      "metadata": {
        "id": "Ned1pL9zMmBK"
      },
      "source": [
        "## **a. Membangun Model Klasifikasi**"
      ]
    },
    {
      "cell_type": "markdown",
      "metadata": {
        "id": "WAWzPOE4Nkti"
      },
      "source": [
        "Setelah memilih algoritma klasifikasi yang sesuai, langkah selanjutnya adalah melatih model menggunakan data latih.\n",
        "\n",
        "Berikut adalah rekomendasi tahapannya.\n",
        "1. Pilih algoritma klasifikasi yang sesuai, seperti Logistic Regression, Decision Tree, Random Forest, atau K-Nearest Neighbors (KNN).\n",
        "2. Latih model menggunakan data latih."
      ]
    },
    {
      "cell_type": "code",
      "execution_count": 9,
      "metadata": {
        "id": "4JYxBe87NLDk"
      },
      "outputs": [
        {
          "name": "stdout",
          "output_type": "stream",
          "text": [
            "Model training selesai.\n"
          ]
        }
      ],
      "source": [
        "# Bagian 1: Pelatihan Model\n",
        "# Definisikan setiap klasifikasi secara terpisah\n",
        "knn = KNeighborsClassifier().fit(X_train, y_train)\n",
        "dt = DecisionTreeClassifier().fit(X_train, y_train)\n",
        "rf = RandomForestClassifier().fit(X_train, y_train)\n",
        "svm = SVC().fit(X_train, y_train)\n",
        "nb = GaussianNB().fit(X_train, y_train)\n",
        " \n",
        "print(\"Model training selesai.\")"
      ]
    },
    {
      "cell_type": "markdown",
      "metadata": {
        "id": "seYoHNY3XU1y"
      },
      "source": [
        "Tulis narasi atau penjelasan algoritma yang Anda gunakan."
      ]
    },
    {
      "cell_type": "markdown",
      "metadata": {
        "id": "ergzChZFEL-O"
      },
      "source": [
        "## **b. Evaluasi Model Klasifikasi**"
      ]
    },
    {
      "cell_type": "markdown",
      "metadata": {
        "id": "zOm68u-7NpLT"
      },
      "source": [
        "Berikut adalah **rekomendasi** tahapannya.\n",
        "1. Lakukan prediksi menggunakan data uji.\n",
        "2. Hitung metrik evaluasi seperti Accuracy dan F1-Score (Opsional: Precision dan Recall).\n",
        "3. Buat confusion matrix untuk melihat detail prediksi benar dan salah."
      ]
    },
    {
      "cell_type": "markdown",
      "metadata": {},
      "source": [
        "### KNN"
      ]
    },
    {
      "cell_type": "code",
      "execution_count": 10,
      "metadata": {
        "id": "tMq4QAssNLip"
      },
      "outputs": [
        {
          "name": "stdout",
          "output_type": "stream",
          "text": [
            "==== KNN Classifier ====\n",
            "Confusion Matrix:\n",
            "[[1126   24]\n",
            " [  86  236]]\n",
            "True Positive (TP): 236\n",
            "False Positive (FP): 24\n",
            "False Negative (FN): 86\n",
            "True Negative (TN): 1126\n",
            "Accuracy: 0.9253\n",
            "Precision: 0.9077\n",
            "Recall: 0.7329\n",
            "F1-Score: 0.8110\n",
            "\n",
            "----------------------------------------\n",
            "\n"
          ]
        },
        {
          "data": {
            "image/png": "[encoded data removed]",
            "text/plain": [
              "<Figure size 500x400 with 1 Axes>"
            ]
          },
          "metadata": {},
          "output_type": "display_data"
        }
      ],
      "source": [
        "y_pred_knn = knn.predict(X_test)\n",
        "cm_knn = confusion_matrix(y_test, y_pred_knn)\n",
        "tn, fp, fn, tp = cm_knn.ravel()\n",
        "print(\"==== KNN Classifier ====\")\n",
        "print(\"Confusion Matrix:\")\n",
        "print(cm_knn)\n",
        "print(f\"True Positive (TP): {tp}\")\n",
        "print(f\"False Positive (FP): {fp}\")\n",
        "print(f\"False Negative (FN): {fn}\")\n",
        "print(f\"True Negative (TN): {tn}\")\n",
        "print(f\"Accuracy: {accuracy_score(y_test, y_pred_knn):.4f}\")\n",
        "print(f\"Precision: {precision_score(y_test, y_pred_knn):.4f}\")\n",
        "print(f\"Recall: {recall_score(y_test, y_pred_knn):.4f}\")\n",
        "print(f\"F1-Score: {f1_score(y_test, y_pred_knn):.4f}\")\n",
        "print(\"\\n\" + \"-\"*40 + \"\\n\")\n",
        "\n",
        "plt.figure(figsize=(5, 4))\n",
        "sns.heatmap(cm_knn, annot=True, fmt='d', cmap='Blues', cbar=False)\n",
        "plt.title('KNN Confusion Matrix')\n",
        "plt.xlabel('Predicted')\n",
        "plt.ylabel('Actual')\n",
        "plt.show()"
      ]
    },
    {
      "cell_type": "markdown",
      "metadata": {},
      "source": [
        "### Decision Tree"
      ]
    },
    {
      "cell_type": "code",
      "execution_count": 11,
      "metadata": {},
      "outputs": [
        {
          "name": "stdout",
          "output_type": "stream",
          "text": [
            "==== Decision Tree Classifier ====\n",
            "Confusion Matrix:\n",
            "[[1144    6]\n",
            " [   3  319]]\n",
            "True Positive (TP): 319\n",
            "False Positive (FP): 6\n",
            "False Negative (FN): 3\n",
            "True Negative (TN): 1144\n",
            "Accuracy: 0.9939\n",
            "Precision: 0.9815\n",
            "Recall: 0.9907\n",
            "F1-Score: 0.9861\n",
            "\n",
            "----------------------------------------\n",
            "\n"
          ]
        },
        {
          "data": {
            "image/png": "[encoded data removed]",
            "text/plain": [
              "<Figure size 500x400 with 1 Axes>"
            ]
          },
          "metadata": {},
          "output_type": "display_data"
        }
      ],
      "source": [
        "y_pred_dt = dt.predict(X_test)\n",
        "cm_dt = confusion_matrix(y_test, y_pred_dt)\n",
        "tn, fp, fn, tp = cm_dt.ravel()\n",
        "print(\"==== Decision Tree Classifier ====\")\n",
        "print(\"Confusion Matrix:\")\n",
        "print(cm_dt)\n",
        "print(f\"True Positive (TP): {tp}\")\n",
        "print(f\"False Positive (FP): {fp}\")\n",
        "print(f\"False Negative (FN): {fn}\")\n",
        "print(f\"True Negative (TN): {tn}\")\n",
        "print(f\"Accuracy: {accuracy_score(y_test, y_pred_dt):.4f}\")\n",
        "print(f\"Precision: {precision_score(y_test, y_pred_dt):.4f}\")\n",
        "print(f\"Recall: {recall_score(y_test, y_pred_dt):.4f}\")\n",
        "print(f\"F1-Score: {f1_score(y_test, y_pred_dt):.4f}\")\n",
        "print(\"\\n\" + \"-\"*40 + \"\\n\")\n",
        "\n",
        "plt.figure(figsize=(5, 4))\n",
        "sns.heatmap(cm_dt, annot=True, fmt='d', cmap='Blues', cbar=False)\n",
        "plt.title('Decision Tree Confusion Matrix')\n",
        "plt.xlabel('Predicted')\n",
        "plt.ylabel('Actual')\n",
        "plt.show()"
      ]
    },
    {
      "cell_type": "markdown",
      "metadata": {},
      "source": [
        "### Random Forest"
      ]
    },
    {
      "cell_type": "code",
      "execution_count": 12,
      "metadata": {},
      "outputs": [
        {
          "name": "stdout",
          "output_type": "stream",
          "text": [
            "==== Random Forest Classifier ====\n",
            "Confusion Matrix:\n",
            "[[1144    6]\n",
            " [   4  318]]\n",
            "True Positive (TP): 318\n",
            "False Positive (FP): 6\n",
            "False Negative (FN): 4\n",
            "True Negative (TN): 1144\n",
            "Accuracy: 0.9932\n",
            "Precision: 0.9815\n",
            "Recall: 0.9876\n",
            "F1-Score: 0.9845\n",
            "\n",
            "----------------------------------------\n",
            "\n"
          ]
        },
        {
          "data": {
            "image/png": "[encoded data removed]",
            "text/plain": [
              "<Figure size 500x400 with 1 Axes>"
            ]
          },
          "metadata": {},
          "output_type": "display_data"
        }
      ],
      "source": [
        "# Random Forest\n",
        "y_pred_rf = rf.predict(X_test)\n",
        "cm_rf = confusion_matrix(y_test, y_pred_rf)\n",
        "tn, fp, fn, tp = cm_rf.ravel()\n",
        "print(\"==== Random Forest Classifier ====\")\n",
        "print(\"Confusion Matrix:\")\n",
        "print(cm_rf)\n",
        "print(f\"True Positive (TP): {tp}\")\n",
        "print(f\"False Positive (FP): {fp}\")\n",
        "print(f\"False Negative (FN): {fn}\")\n",
        "print(f\"True Negative (TN): {tn}\")\n",
        "print(f\"Accuracy: {accuracy_score(y_test, y_pred_rf):.4f}\")\n",
        "print(f\"Precision: {precision_score(y_test, y_pred_rf):.4f}\")\n",
        "print(f\"Recall: {recall_score(y_test, y_pred_rf):.4f}\")\n",
        "print(f\"F1-Score: {f1_score(y_test, y_pred_rf):.4f}\")\n",
        "print(\"\\n\" + \"-\"*40 + \"\\n\")\n",
        "\n",
        "plt.figure(figsize=(5, 4))\n",
        "sns.heatmap(cm_rf, annot=True, fmt='d', cmap='Blues', cbar=False)\n",
        "plt.title('Random Forest Confusion Matrix')\n",
        "plt.xlabel('Predicted')\n",
        "plt.ylabel('Actual')\n",
        "plt.show()"
      ]
    },
    {
      "cell_type": "markdown",
      "metadata": {
        "id": "H4_9OwrsXZlz"
      },
      "source": [
        "Tulis hasil evaluasi algoritma yang digunakan, jika Anda menggunakan 2 algoritma, maka bandingkan hasilnya."
      ]
    },
    {
      "cell_type": "markdown",
      "metadata": {},
      "source": [
        "### SVM"
      ]
    },
    {
      "cell_type": "code",
      "execution_count": 13,
      "metadata": {},
      "outputs": [
        {
          "name": "stdout",
          "output_type": "stream",
          "text": [
            "==== SVM Classifier ====\n",
            "Confusion Matrix:\n",
            "[[1141    9]\n",
            " [  34  288]]\n",
            "True Positive (TP): 288\n",
            "False Positive (FP): 9\n",
            "False Negative (FN): 34\n",
            "True Negative (TN): 1141\n",
            "Accuracy: 0.9708\n",
            "Precision: 0.9697\n",
            "Recall: 0.8944\n",
            "F1-Score: 0.9305\n",
            "\n",
            "----------------------------------------\n",
            "\n"
          ]
        },
        {
          "data": {
            "image/png": "[encoded data removed]",
            "text/plain": [
              "<Figure size 500x400 with 1 Axes>"
            ]
          },
          "metadata": {},
          "output_type": "display_data"
        }
      ],
      "source": [
        "# Support Vector Machine (SVM)\n",
        "y_pred_svm = svm.predict(X_test)\n",
        "cm_svm = confusion_matrix(y_test, y_pred_svm)\n",
        "tn, fp, fn, tp = cm_svm.ravel()\n",
        "print(\"==== SVM Classifier ====\")\n",
        "print(\"Confusion Matrix:\")\n",
        "print(cm_svm)\n",
        "print(f\"True Positive (TP): {tp}\")\n",
        "print(f\"False Positive (FP): {fp}\")\n",
        "print(f\"False Negative (FN): {fn}\")\n",
        "print(f\"True Negative (TN): {tn}\")\n",
        "print(f\"Accuracy: {accuracy_score(y_test, y_pred_svm):.4f}\")\n",
        "print(f\"Precision: {precision_score(y_test, y_pred_svm):.4f}\")\n",
        "print(f\"Recall: {recall_score(y_test, y_pred_svm):.4f}\")\n",
        "print(f\"F1-Score: {f1_score(y_test, y_pred_svm):.4f}\")\n",
        "print(\"\\n\" + \"-\"*40 + \"\\n\")\n",
        "\n",
        "plt.figure(figsize=(5, 4))\n",
        "sns.heatmap(cm_svm, annot=True, fmt='d', cmap='Blues', cbar=False)\n",
        "plt.title('SVM Confusion Matrix')\n",
        "plt.xlabel('Predicted')\n",
        "plt.ylabel('Actual')\n",
        "plt.show()"
      ]
    },
    {
      "cell_type": "markdown",
      "metadata": {},
      "source": [
        "### Naive Bayes"
      ]
    },
    {
      "cell_type": "code",
      "execution_count": 14,
      "metadata": {},
      "outputs": [
        {
          "name": "stdout",
          "output_type": "stream",
          "text": [
            "==== Naive Bayes Classifier ====\n",
            "Confusion Matrix:\n",
            "[[1096   54]\n",
            " [  48  274]]\n",
            "True Positive (TP): 274\n",
            "False Positive (FP): 54\n",
            "False Negative (FN): 48\n",
            "True Negative (TN): 1096\n",
            "Accuracy: 0.9307\n",
            "Precision: 0.8354\n",
            "Recall: 0.8509\n",
            "F1-Score: 0.8431\n",
            "\n",
            "----------------------------------------\n",
            "\n"
          ]
        },
        {
          "data": {
            "image/png": "[encoded data removed]",
            "text/plain": [
              "<Figure size 500x400 with 1 Axes>"
            ]
          },
          "metadata": {},
          "output_type": "display_data"
        }
      ],
      "source": [
        "# Naive Bayes\n",
        "y_pred_nb = nb.predict(X_test)\n",
        "cm_nb = confusion_matrix(y_test, y_pred_nb)\n",
        "tn, fp, fn, tp = cm_nb.ravel()\n",
        "print(\"==== Naive Bayes Classifier ====\")\n",
        "print(\"Confusion Matrix:\")\n",
        "print(cm_nb)\n",
        "print(f\"True Positive (TP): {tp}\")\n",
        "print(f\"False Positive (FP): {fp}\")\n",
        "print(f\"False Negative (FN): {fn}\")\n",
        "print(f\"True Negative (TN): {tn}\")\n",
        "print(f\"Accuracy: {accuracy_score(y_test, y_pred_nb):.4f}\")\n",
        "print(f\"Precision: {precision_score(y_test, y_pred_nb):.4f}\")\n",
        "print(f\"Recall: {recall_score(y_test, y_pred_nb):.4f}\")\n",
        "print(f\"F1-Score: {f1_score(y_test, y_pred_nb):.4f}\")\n",
        "print(\"\\n\" + \"-\"*40 + \"\\n\")\n",
        "\n",
        "plt.figure(figsize=(5, 4))\n",
        "sns.heatmap(cm_nb, annot=True, fmt='d', cmap='Blues', cbar=False)\n",
        "plt.title('Naive Bayes Confusion Matrix')\n",
        "plt.xlabel('Predicted')\n",
        "plt.ylabel('Actual')\n",
        "plt.show()"
      ]
    },
    {
      "cell_type": "markdown",
      "metadata": {},
      "source": [
        "### Rangkuman Hasil"
      ]
    },
    {
      "cell_type": "code",
      "execution_count": 15,
      "metadata": {},
      "outputs": [
        {
          "name": "stdout",
          "output_type": "stream",
          "text": [
            "                          Model  Accuracy  Precision    Recall  F1-Score\n",
            "0     K-Nearest Neighbors (KNN)  0.925272   0.907692  0.732919  0.810997\n",
            "1            Decision Tree (DT)  0.993886   0.981538  0.990683  0.986090\n",
            "2            Random Forest (RF)  0.993207   0.981481  0.987578  0.984520\n",
            "3  Support Vector Machine (SVM)  0.970788   0.969697  0.894410  0.930533\n",
            "4              Naive Bayes (NB)  0.930707   0.835366  0.850932  0.843077\n"
          ]
        }
      ],
      "source": [
        "# Fungsi untuk mengevaluasi hasil dan mengembalikan hasil sebagai dictionary\n",
        "def evaluate_model(model, X_test, y_test):\n",
        "    y_pred = model.predict(X_test)\n",
        "    cm = confusion_matrix(y_test, y_pred)\n",
        "    tn, fp, fn, tp, = cm.ravel()\n",
        "    results = {\n",
        "        'Confusion Matrix': cm, \n",
        "        'True Positive (TP)': tp,\n",
        "        'False Positive': fp,\n",
        "        'False Negative': fn,\n",
        "        'True Negative': tn,\n",
        "        'Accuracy': accuracy_score(y_test, y_pred),\n",
        "        'Precision': precision_score(y_test, y_pred),\n",
        "        'Recall': recall_score(y_test, y_pred),\n",
        "        'F1-Score': f1_score(y_test, y_pred)\n",
        "    }\n",
        "    return results\n",
        "\n",
        "# Mengevaluasi setiap model dan mengumpulkan hasilnya \n",
        "results = {\n",
        "    'K-Nearest Neighbors (KNN)': evaluate_model(knn, X_test, y_test),\n",
        "    'Decision Tree (DT)': evaluate_model(dt, X_test, y_test),\n",
        "    'Random Forest (RF)': evaluate_model(rf, X_test, y_test),\n",
        "    'Support Vector Machine (SVM)': evaluate_model(svm, X_test, y_test),\n",
        "    'Naive Bayes (NB)': evaluate_model(nb, X_test, y_test),\n",
        "}\n",
        "\n",
        "# Buat DataFrame untuk meringkas hasil \n",
        "summary_df = pd.DataFrame(columns=['Model', 'Accuracy', 'Precision', 'Recall', 'F1-Score'])\n",
        "\n",
        "# Isi DataFrame dengan hasil\n",
        "rows = []\n",
        "for model_name, metrics in results.items():\n",
        "    rows.append({\n",
        "        'Model': model_name,\n",
        "        'Accuracy': metrics['Accuracy'],\n",
        "        'Precision': metrics['Precision'],\n",
        "        'Recall': metrics['Recall'],\n",
        "        'F1-Score': metrics['F1-Score'],\n",
        "    })\n",
        "\n",
        "# konversi daftar dictionary ke DataFrame \n",
        "summary_df = pd.DataFrame(rows)\n",
        "\n",
        "# Tampilkan DataFrame\n",
        "print(summary_df)"
      ]
    },
    {
      "cell_type": "markdown",
      "metadata": {
        "id": "ph9yIYDXEPuB"
      },
      "source": [
        "## **c. Tuning Model Klasifikasi (Optional)**"
      ]
    },
    {
      "cell_type": "markdown",
      "metadata": {
        "id": "-Bikx3LINv5e"
      },
      "source": [
        "Gunakan GridSearchCV, RandomizedSearchCV, atau metode lainnya untuk mencari kombinasi hyperparameter terbaik"
      ]
    },
    {
      "cell_type": "markdown",
      "metadata": {},
      "source": [
        "### Random Search"
      ]
    },
    {
      "cell_type": "markdown",
      "metadata": {},
      "source": [
        "#### Random Forest Tuning"
      ]
    },
    {
      "cell_type": "code",
      "execution_count": 16,
      "metadata": {
        "id": "winbFzb8NL95"
      },
      "outputs": [
        {
          "name": "stdout",
          "output_type": "stream",
          "text": [
            "Fitting 3 folds for each of 20 candidates, totalling 60 fits\n",
            "Hasil terbaik: {'n_estimators': np.int64(400), 'min_samples_split': 2, 'max_depth': np.int64(20), 'criterion': 'gini'}\n"
          ]
        }
      ],
      "source": [
        "from sklearn.model_selection import RandomizedSearchCV\n",
        "import numpy as np\n",
        "\n",
        "param_dist = {\n",
        "    'n_estimators': np.linspace(100, 500, 5, dtype=int),\n",
        "    'max_depth': np.linspace(10, 50, 5, dtype=int), \n",
        "    'min_samples_split': [2, 5, 10],\n",
        "    'criterion': ['gini', 'entropy']\n",
        "}\n",
        "\n",
        "random_search = RandomizedSearchCV(estimator=rf, param_distributions=param_dist, n_iter=20, cv=3, n_jobs=-1, verbose=2, random_state=42)\n",
        "random_search.fit(X_train, y_train)\n",
        "\n",
        "print(f'Hasil terbaik: {random_search.best_params_}')\n",
        "best_rf_random = random_search.best_estimator_\n",
        "\n"
      ]
    },
    {
      "cell_type": "markdown",
      "metadata": {},
      "source": [
        "#### Decision Tree Tuning"
      ]
    },
    {
      "cell_type": "code",
      "execution_count": 17,
      "metadata": {},
      "outputs": [
        {
          "name": "stdout",
          "output_type": "stream",
          "text": [
            "Fitting 3 folds for each of 20 candidates, totalling 60 fits\n",
            "Hasil terbaik: {'splitter': 'best', 'min_samples_split': 2, 'min_samples_leaf': np.int64(5), 'max_features': None, 'max_depth': np.int64(20), 'criterion': 'entropy'}\n"
          ]
        },
        {
          "name": "stderr",
          "output_type": "stream",
          "text": [
            "c:\\Users\\Pongo\\AppData\\Local\\Programs\\Python\\Python313\\Lib\\site-packages\\sklearn\\model_selection\\_validation.py:528: FitFailedWarning: \n",
            "18 fits failed out of a total of 60.\n",
            "The score on these train-test partitions for these parameters will be set to nan.\n",
            "If these failures are not expected, you can try to debug them by setting error_score='raise'.\n",
            "\n",
            "Below are more details about the failures:\n",
            "--------------------------------------------------------------------------------\n",
            "13 fits failed with the following error:\n",
            "Traceback (most recent call last):\n",
            "  File \"c:\\Users\\Pongo\\AppData\\Local\\Programs\\Python\\Python313\\Lib\\site-packages\\sklearn\\model_selection\\_validation.py\", line 866, in _fit_and_score\n",
            "    estimator.fit(X_train, y_train, **fit_params)\n",
            "    ~~~~~~~~~~~~~^^^^^^^^^^^^^^^^^^^^^^^^^^^^^^^^\n",
            "  File \"c:\\Users\\Pongo\\AppData\\Local\\Programs\\Python\\Python313\\Lib\\site-packages\\sklearn\\base.py\", line 1382, in wrapper\n",
            "    estimator._validate_params()\n",
            "    ~~~~~~~~~~~~~~~~~~~~~~~~~~^^\n",
            "  File \"c:\\Users\\Pongo\\AppData\\Local\\Programs\\Python\\Python313\\Lib\\site-packages\\sklearn\\base.py\", line 436, in _validate_params\n",
            "    validate_parameter_constraints(\n",
            "    ~~~~~~~~~~~~~~~~~~~~~~~~~~~~~~^\n",
            "        self._parameter_constraints,\n",
            "        ^^^^^^^^^^^^^^^^^^^^^^^^^^^^\n",
            "        self.get_params(deep=False),\n",
            "        ^^^^^^^^^^^^^^^^^^^^^^^^^^^^\n",
            "        caller_name=self.__class__.__name__,\n",
            "        ^^^^^^^^^^^^^^^^^^^^^^^^^^^^^^^^^^^^\n",
            "    )\n",
            "    ^\n",
            "  File \"c:\\Users\\Pongo\\AppData\\Local\\Programs\\Python\\Python313\\Lib\\site-packages\\sklearn\\utils\\_param_validation.py\", line 98, in validate_parameter_constraints\n",
            "    raise InvalidParameterError(\n",
            "    ...<2 lines>...\n",
            "    )\n",
            "sklearn.utils._param_validation.InvalidParameterError: The 'max_features' parameter of DecisionTreeClassifier must be an int in the range [1, inf), a float in the range (0.0, 1.0], a str among {'sqrt', 'log2'} or None. Got 'auto' instead.\n",
            "\n",
            "--------------------------------------------------------------------------------\n",
            "5 fits failed with the following error:\n",
            "Traceback (most recent call last):\n",
            "  File \"c:\\Users\\Pongo\\AppData\\Local\\Programs\\Python\\Python313\\Lib\\site-packages\\sklearn\\model_selection\\_validation.py\", line 866, in _fit_and_score\n",
            "    estimator.fit(X_train, y_train, **fit_params)\n",
            "    ~~~~~~~~~~~~~^^^^^^^^^^^^^^^^^^^^^^^^^^^^^^^^\n",
            "  File \"c:\\Users\\Pongo\\AppData\\Local\\Programs\\Python\\Python313\\Lib\\site-packages\\sklearn\\base.py\", line 1382, in wrapper\n",
            "    estimator._validate_params()\n",
            "    ~~~~~~~~~~~~~~~~~~~~~~~~~~^^\n",
            "  File \"c:\\Users\\Pongo\\AppData\\Local\\Programs\\Python\\Python313\\Lib\\site-packages\\sklearn\\base.py\", line 436, in _validate_params\n",
            "    validate_parameter_constraints(\n",
            "    ~~~~~~~~~~~~~~~~~~~~~~~~~~~~~~^\n",
            "        self._parameter_constraints,\n",
            "        ^^^^^^^^^^^^^^^^^^^^^^^^^^^^\n",
            "        self.get_params(deep=False),\n",
            "        ^^^^^^^^^^^^^^^^^^^^^^^^^^^^\n",
            "        caller_name=self.__class__.__name__,\n",
            "        ^^^^^^^^^^^^^^^^^^^^^^^^^^^^^^^^^^^^\n",
            "    )\n",
            "    ^\n",
            "  File \"c:\\Users\\Pongo\\AppData\\Local\\Programs\\Python\\Python313\\Lib\\site-packages\\sklearn\\utils\\_param_validation.py\", line 98, in validate_parameter_constraints\n",
            "    raise InvalidParameterError(\n",
            "    ...<2 lines>...\n",
            "    )\n",
            "sklearn.utils._param_validation.InvalidParameterError: The 'max_features' parameter of DecisionTreeClassifier must be an int in the range [1, inf), a float in the range (0.0, 1.0], a str among {'log2', 'sqrt'} or None. Got 'auto' instead.\n",
            "\n",
            "  warnings.warn(some_fits_failed_message, FitFailedWarning)\n",
            "c:\\Users\\Pongo\\AppData\\Local\\Programs\\Python\\Python313\\Lib\\site-packages\\sklearn\\model_selection\\_search.py:1108: UserWarning: One or more of the test scores are non-finite: [0.98572745 0.99009629        nan        nan 0.97931872        nan\n",
            " 0.98048549 0.97407981 0.99126154 0.98252283 0.96591978 0.98514444\n",
            " 0.93794877        nan 0.92833593 0.94552249 0.9708724         nan\n",
            "        nan 0.92425744]\n",
            "  warnings.warn(\n"
          ]
        }
      ],
      "source": [
        "from sklearn.model_selection import RandomizedSearchCV\n",
        "import numpy as np\n",
        "\n",
        "# Definisi parameter untuk RandomizedSearchCV\n",
        "param_dist = {\n",
        "    'max_depth': np.linspace(10, 50, 5, dtype=int), \n",
        "    'min_samples_split': [2, 5, 10],\n",
        "    'criterion': ['gini', 'entropy'],\n",
        "    'min_samples_leaf': np.arange(1, 10, 1),\n",
        "    'max_features': ['auto', 'sqrt', 'log2', None],  \n",
        "    'splitter': ['best', 'random'],\n",
        "\n",
        "}\n",
        "\n",
        "dt_random_search = RandomizedSearchCV(estimator=dt, param_distributions=param_dist, n_iter=20, cv=3, n_jobs=-1, verbose=2,random_state=42)\n",
        "dt_random_search.fit(X_train, y_train)\n",
        "\n",
        "print(f'Hasil terbaik: {dt_random_search.best_params_}')\n",
        "best_dt_random = dt_random_search.best_estimator_\n"
      ]
    },
    {
      "cell_type": "markdown",
      "metadata": {},
      "source": [
        "### Bayesian Optimziation"
      ]
    },
    {
      "cell_type": "code",
      "execution_count": 18,
      "metadata": {},
      "outputs": [
        {
          "name": "stdout",
          "output_type": "stream",
          "text": [
            "Fitting 3 folds for each of 1 candidates, totalling 3 fits\n",
            "Fitting 3 folds for each of 1 candidates, totalling 3 fits\n",
            "Fitting 3 folds for each of 1 candidates, totalling 3 fits\n",
            "Fitting 3 folds for each of 1 candidates, totalling 3 fits\n",
            "Fitting 3 folds for each of 1 candidates, totalling 3 fits\n",
            "Fitting 3 folds for each of 1 candidates, totalling 3 fits\n",
            "Fitting 3 folds for each of 1 candidates, totalling 3 fits\n",
            "Fitting 3 folds for each of 1 candidates, totalling 3 fits\n",
            "Fitting 3 folds for each of 1 candidates, totalling 3 fits\n",
            "Fitting 3 folds for each of 1 candidates, totalling 3 fits\n",
            "Fitting 3 folds for each of 1 candidates, totalling 3 fits\n",
            "Fitting 3 folds for each of 1 candidates, totalling 3 fits\n",
            "Fitting 3 folds for each of 1 candidates, totalling 3 fits\n",
            "Fitting 3 folds for each of 1 candidates, totalling 3 fits\n",
            "Fitting 3 folds for each of 1 candidates, totalling 3 fits\n",
            "Fitting 3 folds for each of 1 candidates, totalling 3 fits\n",
            "Fitting 3 folds for each of 1 candidates, totalling 3 fits\n",
            "Fitting 3 folds for each of 1 candidates, totalling 3 fits\n",
            "Fitting 3 folds for each of 1 candidates, totalling 3 fits\n",
            "Fitting 3 folds for each of 1 candidates, totalling 3 fits\n",
            "Fitting 3 folds for each of 1 candidates, totalling 3 fits\n",
            "Fitting 3 folds for each of 1 candidates, totalling 3 fits\n",
            "Fitting 3 folds for each of 1 candidates, totalling 3 fits\n",
            "Fitting 3 folds for each of 1 candidates, totalling 3 fits\n",
            "Fitting 3 folds for each of 1 candidates, totalling 3 fits\n",
            "Fitting 3 folds for each of 1 candidates, totalling 3 fits\n",
            "Fitting 3 folds for each of 1 candidates, totalling 3 fits\n",
            "Fitting 3 folds for each of 1 candidates, totalling 3 fits\n",
            "Fitting 3 folds for each of 1 candidates, totalling 3 fits\n",
            "Fitting 3 folds for each of 1 candidates, totalling 3 fits\n",
            "Fitting 3 folds for each of 1 candidates, totalling 3 fits\n",
            "Fitting 3 folds for each of 1 candidates, totalling 3 fits\n",
            "Best parameters (Bayesian Optimization): OrderedDict({'ccp_alpha': 0.0, 'criterion': 'gini', 'max_depth': 10, 'min_samples_split': 2, 'n_estimators': 100})\n"
          ]
        }
      ],
      "source": [
        "from skopt import BayesSearchCV\n",
        "\n",
        "# Definisikan ruang pencarian untuk Bayesian Optimization\n",
        "param_space = {\n",
        "    'n_estimators': (100, 500),\n",
        "    'max_depth': (10, 50),\n",
        "    'min_samples_split': (2, 10),\n",
        "    'criterion': ['gini', 'entropy'],\n",
        "    'ccp_alpha': np.linspace(0, 0.05, 10)\n",
        "}\n",
        " \n",
        "# Inisialisasi BayesSearchCV\n",
        "bayes_search = BayesSearchCV(estimator=rf, search_spaces=param_space, n_iter=32, cv=3, n_jobs=-1, verbose=2, random_state=42)\n",
        "bayes_search.fit(X_train, y_train)\n",
        " \n",
        "# Output hasil terbaik\n",
        "print(f\"Best parameters (Bayesian Optimization): {bayes_search.best_params_}\")\n",
        "best_rf_bayes = bayes_search.best_estimator_"
      ]
    },
    {
      "cell_type": "code",
      "execution_count": 19,
      "metadata": {},
      "outputs": [
        {
          "name": "stdout",
          "output_type": "stream",
          "text": [
            "Fitting 3 folds for each of 1 candidates, totalling 3 fits\n",
            "Fitting 3 folds for each of 1 candidates, totalling 3 fits\n",
            "Fitting 3 folds for each of 1 candidates, totalling 3 fits\n",
            "Fitting 3 folds for each of 1 candidates, totalling 3 fits\n",
            "Fitting 3 folds for each of 1 candidates, totalling 3 fits\n",
            "Fitting 3 folds for each of 1 candidates, totalling 3 fits\n",
            "Fitting 3 folds for each of 1 candidates, totalling 3 fits\n",
            "Fitting 3 folds for each of 1 candidates, totalling 3 fits\n",
            "Fitting 3 folds for each of 1 candidates, totalling 3 fits\n",
            "Fitting 3 folds for each of 1 candidates, totalling 3 fits\n",
            "Fitting 3 folds for each of 1 candidates, totalling 3 fits\n",
            "Fitting 3 folds for each of 1 candidates, totalling 3 fits\n",
            "Fitting 3 folds for each of 1 candidates, totalling 3 fits\n",
            "Fitting 3 folds for each of 1 candidates, totalling 3 fits\n",
            "Fitting 3 folds for each of 1 candidates, totalling 3 fits\n",
            "Fitting 3 folds for each of 1 candidates, totalling 3 fits\n",
            "Fitting 3 folds for each of 1 candidates, totalling 3 fits\n",
            "Fitting 3 folds for each of 1 candidates, totalling 3 fits\n",
            "Fitting 3 folds for each of 1 candidates, totalling 3 fits\n",
            "Fitting 3 folds for each of 1 candidates, totalling 3 fits\n",
            "Fitting 3 folds for each of 1 candidates, totalling 3 fits\n",
            "Fitting 3 folds for each of 1 candidates, totalling 3 fits\n",
            "Fitting 3 folds for each of 1 candidates, totalling 3 fits\n",
            "Fitting 3 folds for each of 1 candidates, totalling 3 fits\n",
            "Fitting 3 folds for each of 1 candidates, totalling 3 fits\n",
            "Fitting 3 folds for each of 1 candidates, totalling 3 fits\n",
            "Fitting 3 folds for each of 1 candidates, totalling 3 fits\n",
            "Fitting 3 folds for each of 1 candidates, totalling 3 fits\n",
            "Fitting 3 folds for each of 1 candidates, totalling 3 fits\n",
            "Fitting 3 folds for each of 1 candidates, totalling 3 fits\n",
            "Fitting 3 folds for each of 1 candidates, totalling 3 fits\n",
            "Fitting 3 folds for each of 1 candidates, totalling 3 fits\n",
            "Best parameters (Bayesian Optimization): OrderedDict({'criterion': 'entropy', 'max_depth': 10, 'min_samples_leaf': 2, 'min_samples_split': 5, 'splitter': 'best'})\n"
          ]
        }
      ],
      "source": [
        "from skopt import BayesSearchCV\n",
        "\n",
        "# Definisikan ruang pencarian untuk Bayesian Optimization\n",
        "param_space = {\n",
        "    'max_depth': np.linspace(10, 50, 5, dtype=int), \n",
        "    'min_samples_split': [2, 5, 10],\n",
        "    'criterion': ['gini', 'entropy'],\n",
        "    'min_samples_leaf': np.arange(1, 10, 1),  \n",
        "    'splitter': ['best', 'random'],\n",
        "}\n",
        " \n",
        "# Inisialisasi BayesSearchCV\n",
        "dt_bayes_search = BayesSearchCV(estimator=dt, search_spaces=param_space, n_iter=32, cv=3, n_jobs=-1, verbose=2, random_state=42)\n",
        "dt_bayes_search.fit(X_train, y_train)\n",
        " \n",
        "# Output hasil terbaik\n",
        "print(f\"Best parameters (Bayesian Optimization): {dt_bayes_search.best_params_}\")\n",
        "best_dt_bayes = dt_bayes_search.best_estimator_"
      ]
    },
    {
      "cell_type": "markdown",
      "metadata": {
        "id": "hE7pqlEPEYzI"
      },
      "source": [
        "## **d. Evaluasi Model Klasifikasi setelah Tuning (Optional)**"
      ]
    },
    {
      "cell_type": "markdown",
      "metadata": {
        "id": "feaPESoeN0zz"
      },
      "source": [
        "Berikut adalah rekomendasi tahapannya.\n",
        "1. Gunakan model dengan hyperparameter terbaik.\n",
        "2. Hitung ulang metrik evaluasi untuk melihat apakah ada peningkatan performa."
      ]
    },
    {
      "cell_type": "markdown",
      "metadata": {},
      "source": [
        "### Random Search Evaluasi"
      ]
    },
    {
      "cell_type": "code",
      "execution_count": 20,
      "metadata": {
        "id": "HTXZRvEeNMb1"
      },
      "outputs": [
        {
          "name": "stdout",
          "output_type": "stream",
          "text": [
            "Accuracy: 0.99049\n",
            "Precision: 0.98125\n",
            "Recall: 0.97516\n",
            "F1 Score: 0.97819\n",
            "\n",
            "Confusion Matrix:\n",
            "[[1144    6]\n",
            " [   8  314]]\n"
          ]
        },
        {
          "data": {
            "image/png": "[encoded data removed]",
            "text/plain": [
              "<Figure size 500x400 with 1 Axes>"
            ]
          },
          "metadata": {},
          "output_type": "display_data"
        }
      ],
      "source": [
        "# Prediksi pada test set menggunakan model terbaik\n",
        "y_pred_rf_random = best_rf_random.predict(X_test)\n",
        "\n",
        "# Menghitung metrik evaluasi\n",
        "accuracy = accuracy_score(y_test, y_pred_rf_random)\n",
        "precision = precision_score(y_test, y_pred_rf_random)\n",
        "recall = recall_score(y_test, y_pred_rf_random)\n",
        "f1 = f1_score(y_test, y_pred_rf_random)\n",
        "\n",
        "cm_rf = confusion_matrix(y_test, y_pred_rf_random)\n",
        "\n",
        "# Menampilkan hasil evaluasi\n",
        "print(f\"Accuracy: {accuracy:.5f}\")\n",
        "print(f\"Precision: {precision:.5f}\")\n",
        "print(f\"Recall: {recall:.5f}\")\n",
        "print(f\"F1 Score: {f1:.5f}\")\n",
        "\n",
        "# Menampilkan Confusion Matrix\n",
        "print(\"\\nConfusion Matrix:\")\n",
        "print(confusion_matrix(y_test, y_pred_rf_random))\n",
        "\n",
        "plt.figure(figsize=(5, 4))\n",
        "sns.heatmap(cm_rf, annot=True, fmt='d', cmap='Blues', cbar=False)\n",
        "plt.title('Random Forest Random Search Confusion Matrix')\n",
        "plt.xlabel('Predicted')\n",
        "plt.ylabel('Actual')\n",
        "plt.show()"
      ]
    },
    {
      "cell_type": "code",
      "execution_count": 21,
      "metadata": {},
      "outputs": [
        {
          "name": "stdout",
          "output_type": "stream",
          "text": [
            "Accuracy: 0.98981\n",
            "Precision: 0.96657\n",
            "Recall: 0.98758\n",
            "F1 Score: 0.97696\n",
            "\n",
            "Confusion Matrix:\n",
            "[[1139   11]\n",
            " [   4  318]]\n"
          ]
        },
        {
          "data": {
            "image/png": "[encoded data removed]",
            "text/plain": [
              "<Figure size 500x400 with 1 Axes>"
            ]
          },
          "metadata": {},
          "output_type": "display_data"
        }
      ],
      "source": [
        "# Prediksi pada test set menggunakan model terbaik\n",
        "y_pred_dt_random = best_dt_random.predict(X_test)\n",
        "\n",
        "# Menghitung metrik evaluasi\n",
        "accuracy = accuracy_score(y_test, y_pred_dt_random)\n",
        "precision = precision_score(y_test, y_pred_dt_random)\n",
        "recall = recall_score(y_test, y_pred_dt_random)\n",
        "f1 = f1_score(y_test, y_pred_dt_random)\n",
        "\n",
        "cm_dt = confusion_matrix(y_test, y_pred_dt_random)\n",
        "\n",
        "# Menampilkan hasil evaluasi\n",
        "print(f\"Accuracy: {accuracy:.5f}\")\n",
        "print(f\"Precision: {precision:.5f}\")\n",
        "print(f\"Recall: {recall:.5f}\")\n",
        "print(f\"F1 Score: {f1:.5f}\")\n",
        "\n",
        "# Menampilkan Confusion Matrix\n",
        "print(\"\\nConfusion Matrix:\")\n",
        "print(confusion_matrix(y_test, y_pred_dt_random))\n",
        "\n",
        "plt.figure(figsize=(5, 4))\n",
        "sns.heatmap(cm_dt, annot=True, fmt='d', cmap='Blues', cbar=False)\n",
        "plt.title('Decision Tree Random Search Confusion Matrix')\n",
        "plt.xlabel('Predicted')\n",
        "plt.ylabel('Actual')\n",
        "plt.show()"
      ]
    },
    {
      "cell_type": "markdown",
      "metadata": {},
      "source": [
        "### Evaluasi Bayesian Optimization"
      ]
    },
    {
      "cell_type": "code",
      "execution_count": 22,
      "metadata": {},
      "outputs": [
        {
          "name": "stdout",
          "output_type": "stream",
          "text": [
            "Accuracy: 0.98913\n",
            "Precision: 0.98113\n",
            "Recall: 0.96894\n",
            "F1 Score: 0.97500\n",
            "\n",
            "Confusion Matrix:\n",
            "[[1144    6]\n",
            " [  10  312]]\n"
          ]
        },
        {
          "data": {
            "image/png": "[encoded data removed]",
            "text/plain": [
              "<Figure size 500x400 with 1 Axes>"
            ]
          },
          "metadata": {},
          "output_type": "display_data"
        }
      ],
      "source": [
        "y_pred_rf_bayes = best_rf_bayes.predict(X_test)\n",
        "\n",
        "# Menghitung metrik evaluasi\n",
        "accuracy = accuracy_score(y_test, y_pred_rf_bayes)\n",
        "precision = precision_score(y_test, y_pred_rf_bayes)\n",
        "recall = recall_score(y_test, y_pred_rf_bayes)\n",
        "f1 = f1_score(y_test, y_pred_rf_bayes)\n",
        "\n",
        "cm_bayes = confusion_matrix(y_test, y_pred_rf_bayes)\n",
        "\n",
        "# Menampilkan hasil evaluasi\n",
        "print(f\"Accuracy: {accuracy:.5f}\")\n",
        "print(f\"Precision: {precision:.5f}\")\n",
        "print(f\"Recall: {recall:.5f}\")\n",
        "print(f\"F1 Score: {f1:.5f}\")\n",
        "\n",
        "# Menampilkan Confusion Matrix\n",
        "print(\"\\nConfusion Matrix:\")\n",
        "print(confusion_matrix(y_test, y_pred_rf_bayes))\n",
        "\n",
        "\n",
        "plt.figure(figsize=(5, 4))\n",
        "sns.heatmap(cm_bayes, annot=True, fmt='d', cmap='Blues', cbar=False)\n",
        "plt.title('Random Forest Bayesian Confusion Matrix')\n",
        "plt.xlabel('Predicted')\n",
        "plt.ylabel('Actual')\n",
        "plt.show()"
      ]
    },
    {
      "cell_type": "code",
      "execution_count": 23,
      "metadata": {},
      "outputs": [
        {
          "name": "stdout",
          "output_type": "stream",
          "text": [
            "Accuracy: 0.99524\n",
            "Precision: 0.98462\n",
            "Recall: 0.99379\n",
            "F1 Score: 0.98918\n",
            "\n",
            "Confusion Matrix:\n",
            "[[1145    5]\n",
            " [   2  320]]\n"
          ]
        },
        {
          "data": {
            "image/png": "[encoded data removed]",
            "text/plain": [
              "<Figure size 500x400 with 1 Axes>"
            ]
          },
          "metadata": {},
          "output_type": "display_data"
        }
      ],
      "source": [
        "y_pred_dt_bayes = best_dt_bayes.predict(X_test)\n",
        "\n",
        "# Menghitung metrik evaluasi\n",
        "accuracy = accuracy_score(y_test, y_pred_dt_bayes)\n",
        "precision = precision_score(y_test, y_pred_dt_bayes)\n",
        "recall = recall_score(y_test, y_pred_dt_bayes)\n",
        "f1 = f1_score(y_test, y_pred_dt_bayes)\n",
        "\n",
        "cm_bayes = confusion_matrix(y_test, y_pred_dt_bayes)\n",
        "\n",
        "# Menampilkan hasil evaluasi\n",
        "print(f\"Accuracy: {accuracy:.5f}\")\n",
        "print(f\"Precision: {precision:.5f}\")\n",
        "print(f\"Recall: {recall:.5f}\")\n",
        "print(f\"F1 Score: {f1:.5f}\")\n",
        "\n",
        "# Menampilkan Confusion Matrix\n",
        "print(\"\\nConfusion Matrix:\")\n",
        "print(confusion_matrix(y_test, y_pred_dt_bayes))\n",
        "\n",
        "\n",
        "plt.figure(figsize=(5, 4))\n",
        "sns.heatmap(cm_bayes, annot=True, fmt='d', cmap='Blues', cbar=False)\n",
        "plt.title('Decision Tree Bayesian Confusion Matrix')\n",
        "plt.xlabel('Predicted')\n",
        "plt.ylabel('Actual')\n",
        "plt.show()"
      ]
    },
    {
      "cell_type": "markdown",
      "metadata": {
        "id": "ZRsOdm4uEgAW"
      },
      "source": [
        "## **e. Analisis Hasil Evaluasi Model Klasifikasi**"
      ]
    },
    {
      "cell_type": "markdown",
      "metadata": {
        "id": "Hm3BhSi6N4_l"
      },
      "source": [
        "Berikut adalah **rekomendasi** tahapannya.\n",
        "1. Bandingkan hasil evaluasi sebelum dan setelah tuning (jika dilakukan).\n",
        "2. Identifikasi kelemahan model, seperti:\n",
        "  - Precision atau Recall rendah untuk kelas tertentu.\n",
        "  - Apakah model mengalami overfitting atau underfitting?\n",
        "3. Berikan rekomendasi tindakan lanjutan, seperti mengumpulkan data tambahan atau mencoba algoritma lain jika hasil belum memuaskan."
      ]
    },
    {
      "cell_type": "code",
      "execution_count": 24,
      "metadata": {},
      "outputs": [
        {
          "name": "stdout",
          "output_type": "stream",
          "text": [
            "                            Model  Accuracy  Precision    Recall  F1-Score\n",
            "0                DT Before Tuning  0.993886   0.981538  0.990683  0.986090\n",
            "1          DT After Random Search  0.989810   0.966565  0.987578  0.976959\n",
            "2  DT After Bayesian Optimization  0.995245   0.984615  0.993789  0.989181\n",
            "3                RF Before Tuning  0.993207   0.981481  0.987578  0.984520\n",
            "4          RF After Random Search  0.990489   0.981250  0.975155  0.978193\n",
            "5  RF After Bayesian Optimization  0.989130   0.981132  0.968944  0.975000\n"
          ]
        }
      ],
      "source": [
        "from sklearn.metrics import accuracy_score, precision_score, recall_score, f1_score, confusion_matrix\n",
        "import pandas as pd\n",
        "\n",
        "# Fungsi evaluasi model\n",
        "def evaluate_model(model, X_test, y_test):\n",
        "    y_pred = model.predict(X_test)\n",
        "    results = {\n",
        "        'Accuracy': accuracy_score(y_test, y_pred),\n",
        "        'Precision': precision_score(y_test, y_pred),\n",
        "        'Recall': recall_score(y_test, y_pred),\n",
        "        'F1-Score': f1_score(y_test, y_pred)\n",
        "    }\n",
        "    return results\n",
        "\n",
        "# Mengevaluasi setiap model sebelum dan sesudah tuning\n",
        "results = {\n",
        "    'DT Before Tuning': evaluate_model(dt, X_test, y_test),\n",
        "    'DT After Random Search': evaluate_model(best_dt_random, X_test, y_test),\n",
        "    'DT After Bayesian Optimization': evaluate_model(best_dt_bayes, X_test, y_test),\n",
        "    'RF Before Tuning': evaluate_model(rf, X_test, y_test),\n",
        "    'RF After Random Search': evaluate_model(best_rf_random, X_test, y_test),\n",
        "    'RF After Bayesian Optimization': evaluate_model(best_rf_bayes, X_test, y_test),\n",
        "}\n",
        "\n",
        "# Konversi hasil evaluasi ke dalam DataFrame\n",
        "summary_df = pd.DataFrame([\n",
        "    {\n",
        "        'Model': model_name,\n",
        "        'Accuracy': metrics['Accuracy'],\n",
        "        'Precision': metrics['Precision'],\n",
        "        'Recall': metrics['Recall'],\n",
        "        'F1-Score': metrics['F1-Score'],\n",
        "    }\n",
        "    for model_name, metrics in results.items()\n",
        "])\n",
        "\n",
        "# Tampilkan tabel perbandingan hasil\n",
        "print(summary_df)\n"
      ]
    },
    {
      "cell_type": "markdown",
      "metadata": {},
      "source": [
        "setelah melakukan hyperparameter tuning. model Decision Tree menggunakan Bayesian Optimization terbilang memberi hasil yang lebih baik dengan hasil tuning lainnya. tidak terjadi kelemahan signifikan pada model ini, walupun hanya ada 98% untuk precision dan F1 score tapi masih tergolong angka yang sangat baik. "
      ]
    },
    {
      "cell_type": "code",
      "execution_count": null,
      "metadata": {},
      "outputs": [
        {
          "data": {
            "image/png": "[encoded data removed]",
            "text/plain": [
              "<Figure size 800x600 with 1 Axes>"
            ]
          },
          "metadata": {},
          "output_type": "display_data"
        }
      ],
      "source": [
        "from sklearn.model_selection import learning_curve\n",
        "\n",
        "# 3. Hitung learning curve\n",
        "train_sizes, train_scores, test_scores = learning_curve(\n",
        "    best_dt_bayes, X_train, y_train, cv=5, scoring='accuracy', train_sizes=np.linspace(0.1, 1.0, 10)\n",
        ")\n",
        "\n",
        "# 4. Hitung rata-rata dan standar deviasi\n",
        "train_mean = np.mean(train_scores, axis=1)\n",
        "train_std = np.std(train_scores, axis=1)\n",
        "test_mean = np.mean(test_scores, axis=1)\n",
        "test_std = np.std(test_scores, axis=1)\n",
        "\n",
        "# 5. Plot Learning Curve\n",
        "plt.figure(figsize=(8, 6))\n",
        "plt.plot(train_sizes, train_mean, 'o-', color=\"blue\", label=\"Training Accuracy\")\n",
        "plt.plot(train_sizes, test_mean, 'o-', color=\"green\", label=\"Validation Accuracy\")\n",
        "\n",
        "plt.fill_between(train_sizes, train_mean - train_std, train_mean + train_std, alpha=0.1, color=\"blue\")\n",
        "plt.fill_between(train_sizes, test_mean - test_std, test_mean + test_std, alpha=0.1, color=\"green\")\n",
        "\n",
        "plt.xlabel(\"Training Set Size\")\n",
        "plt.ylabel(\"Accuracy\")\n",
        "plt.title(\"Learning Curve\")\n",
        "plt.legend(loc=\"best\")\n",
        "plt.show()"
      ]
    },
    {
      "cell_type": "markdown",
      "metadata": {},
      "source": [
        "Gap semakin berdekatan seiring bertambahnya data. jadi kedepannya dapat menambahkan data untuk hasil yang lebih optimal. dan dapat melakuakn hyperparameter tuning jika memungkinkan untuk model lain seperti KNN, SVM, dll. seperti yang telah saya latih di atas, tinggal butuh tuning saja. "
      ]
    }
  ],
  "metadata": {
    "colab": {
      "provenance": []
    },
    "kernelspec": {
      "display_name": "Python 3",
      "name": "python3"
    },
    "language_info": {
      "codemirror_mode": {
        "name": "ipython",
        "version": 3
      },
      "file_extension": ".py",
      "mimetype": "text/x-python",
      "name": "python",
      "nbconvert_exporter": "python",
      "pygments_lexer": "ipython3",
      "version": "3.13.2"
    }
  },
  "nbformat": 4,
  "nbformat_minor": 0
}
